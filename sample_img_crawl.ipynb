{
  "nbformat": 4,
  "nbformat_minor": 0,
  "metadata": {
    "colab": {
      "name": "Untitled1.ipynb",
      "provenance": [],
      "collapsed_sections": [],
      "mount_file_id": "1E0npqaj9Dedl8V4wXfA8w5wj-SoGj4kY",
      "authorship_tag": "ABX9TyOIoifbgcKysVXixfzcdH2Q",
      "include_colab_link": true
    },
    "kernelspec": {
      "name": "python3",
      "display_name": "Python 3"
    },
    "language_info": {
      "name": "python"
    }
  },
  "cells": [
    {
      "cell_type": "markdown",
      "metadata": {
        "id": "view-in-github",
        "colab_type": "text"
      },
      "source": [
        "<a href=\"https://colab.research.google.com/github/jyakler/bigdata/blob/main/sample_img_crawl.ipynb\" target=\"_parent\"><img src=\"https://colab.research.google.com/assets/colab-badge.svg\" alt=\"Open In Colab\"/></a>"
      ]
    },
    {
      "cell_type": "code",
      "source": [
        "!pip install selenium"
      ],
      "metadata": {
        "id": "NLKMelnDYqbK"
      },
      "execution_count": null,
      "outputs": []
    },
    {
      "cell_type": "code",
      "execution_count": null,
      "metadata": {
        "id": "q1k_gPuA2n_i"
      },
      "outputs": [],
      "source": [
        "from selenium import webdriver\n",
        "import re\n",
        "import numpy as np\n",
        "import pandas as pd\n",
        "import urllib.request\n",
        "from bs4 import BeautifulSoup as bs\n",
        "import time\n",
        "import math\n",
        "import requests\n",
        "import json"
      ]
    },
    {
      "cell_type": "code",
      "source": [
        "base_url=\"https://emart.ssg.com/category/list.ssg?dispCtgId=\"\n",
        "id=\"6000095935\"\n",
        "detail=\"&shpp=ssgem&sort=prcasc&page=\"\n",
        "page=1\n",
        "\n",
        "url=base_url+id+detail+str(page)\n",
        "hdr = {'User-Agent':'Mozilla/5.0 (Windows NT 10.0; Win64; x64) AppleWebKit/537.36 (KHTML, like Gecko) Chrome/102.0.5005.63 Safari/537.36'}\n",
        "req=requests.get(url=url,headers=hdr)\n",
        "req.encoding=\"utf-8\"\n",
        "r=req.text\n",
        "b=bs(r,\"html.parser\")"
      ],
      "metadata": {
        "id": "NIgNqPjyYg_e"
      },
      "execution_count": 128,
      "outputs": []
    },
    {
      "cell_type": "code",
      "source": [
        "base_url=\"https://emart.ssg.com/category/list.ssg?dispCtgId=\"\n",
        "id=\"6000095935\"\n",
        "detail=\"&shpp=ssgem&sort=prcasc&page=\"\n",
        "page=1\n",
        "t=[]\n",
        "c=[]\n",
        "p=[]\n",
        "im=[]\n",
        "hdr = {'User-Agent':'Mozilla/5.0 (Windows NT 10.0; Win64; x64) AppleWebKit/537.36 (KHTML, like Gecko) Chrome/102.0.5005.63 Safari/537.36'}\n",
        "while(1):\n",
        "  url=base_url+id+detail+str(page)\n",
        "  req=requests.get(url=url,headers=hdr)\n",
        "  req.encoding=\"utf-8\"\n",
        "  r=req.text\n",
        "  b=bs(r,\"html.parser\")\n",
        "  product=b.select(\"#ty_thmb_view > ul > li\")\n",
        "\n",
        "  if len(product)==0:\n",
        "    print(\"no left\")\n",
        "    break\n",
        "  for product in product:\n",
        "    title= product.select(\"div.cunit_info > div.cunit_md.notranslate > div > a > em.tx_ko\")[0]\n",
        "    cost=product.select(\"div.cunit_info > div.cunit_price.notranslate > div.opt_price > em\")[0]\n",
        "    img=product.select(\"div.cunit_prod > div.thmb > a > img.i1\")[0]\n",
        "    try:\n",
        "      pop=(product.select(\"div.cunit_info > div.cunit_app > div > span > em\")[0].text)\n",
        "    except:\n",
        "      pop=\"0\"\n",
        "    pop=int(pop.replace(\",\",\"\"))\n",
        "    img_url=\"https:\"+img['src']\n",
        "    img_url=img_url.replace('290.jpg','1200.jpg')\n",
        "    t.append(title.text)\n",
        "    c.append(cost.text)\n",
        "    p.append(pop)\n",
        "    im.append(img_url)\n",
        "  page+=1\n",
        "\n",
        "df=pd.DataFrame({'name':t,'price':c,'popularity':p,'img_url':im})"
      ],
      "metadata": {
        "colab": {
          "base_uri": "https://localhost:8080/"
        },
        "id": "4du0T7szY1E-",
        "outputId": "908597c6-b0ef-43ca-b462-abafd19ae83c"
      },
      "execution_count": 145,
      "outputs": [
        {
          "output_type": "stream",
          "name": "stdout",
          "text": [
            "no left\n"
          ]
        }
      ]
    },
    {
      "cell_type": "code",
      "source": [
        "display(df)\n",
        "# print(df.loc[0,'img_url'])"
      ],
      "metadata": {
        "id": "SxXJQtBkxRXm"
      },
      "execution_count": null,
      "outputs": []
    },
    {
      "cell_type": "code",
      "source": [
        "display(df[df['name'].str.contains(\"[★/]\")])"
      ],
      "metadata": {
        "id": "hpGukkZYabo2"
      },
      "execution_count": null,
      "outputs": []
    },
    {
      "cell_type": "code",
      "source": [
        "display(df[df['name'].str.len()>=25])"
      ],
      "metadata": {
        "id": "MYRmWkBhbErv"
      },
      "execution_count": null,
      "outputs": []
    },
    {
      "cell_type": "code",
      "source": [
        "count=0\n",
        "page=1\n",
        "hdr = {'User-Agent':'Mozilla/5.0 (Windows NT 10.0; Win64; x64) AppleWebKit/537.36 (KHTML, like Gecko) Chrome/102.0.5005.63 Safari/537.36'}\n",
        "url_base=\"https://emart.ssg.com/disp/category.ssg?dispCtgId=6000095934&shpp=ssgem&sort=prcasc&page=\"\n",
        "while(1):\n",
        "  url=url_base+str(page)\n",
        "  req=requests.get(url=url,headers=hdr)\n",
        "  req.encoding=\"utf-8\"\n",
        "  r=req.text\n",
        "  b=bs(r,\"html.parser\")\n",
        "  #상품 이름, id가져오기\n",
        "  title=b.select(\"#ty_thmb_view > ul > li > div.cunit_info > div.cunit_md.notranslate > div > a > em.tx_ko\")\n",
        "  id=b.select(\"#ty_thmb_view > ul > li > div.cunit_prod > div.thmb > a['href']\")\n",
        "  img=b.select(\"#ty_thmb_view > ul > li > div.cunit_prod > div.thmb > a > img.i1\")\n",
        "  if(len(title)==0):\n",
        "    print(page,count,\"error\")\n",
        "    break\n",
        "  for i in range(len(id)):\n",
        "    name=title[i].text\n",
        "    name=name.replace('/','_')\n",
        "    img_url=\"https:\"+img[i]['src']\n",
        "    img_url=img_url.replace('290.jpg','1200.jpg')\n",
        "    fileurl='일반과자/'+name+\".jpg\"\n",
        "    # urllib.request.urlretrieve(img_url,fileurl)\n",
        "    # print(img_url)\n",
        "    count+=1\n",
        "  page+=1"
      ],
      "metadata": {
        "colab": {
          "base_uri": "https://localhost:8080/"
        },
        "id": "FOC-PjbKt78l",
        "outputId": "31dd574a-1bb9-45c5-fc0d-62a54d69e4a7"
      },
      "execution_count": 132,
      "outputs": [
        {
          "output_type": "stream",
          "name": "stdout",
          "text": [
            "5 317 error\n"
          ]
        }
      ]
    },
    {
      "cell_type": "code",
      "source": [
        "!zip -r /content/일반과자.zip /content/일반과자"
      ],
      "metadata": {
        "id": "qZrHc8Os7wqH"
      },
      "execution_count": null,
      "outputs": []
    },
    {
      "cell_type": "code",
      "source": [
        "from google.colab import files\n",
        "files.download('/content/일반과자.zip')"
      ],
      "metadata": {
        "colab": {
          "base_uri": "https://localhost:8080/",
          "height": 16
        },
        "id": "Qpa-pTDRG7d2",
        "outputId": "80dcce6f-1f26-4cbc-9e8e-3f0aadf2f71e"
      },
      "execution_count": 136,
      "outputs": [
        {
          "output_type": "display_data",
          "data": {
            "text/plain": [
              "<IPython.core.display.Javascript object>"
            ],
            "application/javascript": [
              "\n",
              "    async function download(id, filename, size) {\n",
              "      if (!google.colab.kernel.accessAllowed) {\n",
              "        return;\n",
              "      }\n",
              "      const div = document.createElement('div');\n",
              "      const label = document.createElement('label');\n",
              "      label.textContent = `Downloading \"${filename}\": `;\n",
              "      div.appendChild(label);\n",
              "      const progress = document.createElement('progress');\n",
              "      progress.max = size;\n",
              "      div.appendChild(progress);\n",
              "      document.body.appendChild(div);\n",
              "\n",
              "      const buffers = [];\n",
              "      let downloaded = 0;\n",
              "\n",
              "      const channel = await google.colab.kernel.comms.open(id);\n",
              "      // Send a message to notify the kernel that we're ready.\n",
              "      channel.send({})\n",
              "\n",
              "      for await (const message of channel.messages) {\n",
              "        // Send a message to notify the kernel that we're ready.\n",
              "        channel.send({})\n",
              "        if (message.buffers) {\n",
              "          for (const buffer of message.buffers) {\n",
              "            buffers.push(buffer);\n",
              "            downloaded += buffer.byteLength;\n",
              "            progress.value = downloaded;\n",
              "          }\n",
              "        }\n",
              "      }\n",
              "      const blob = new Blob(buffers, {type: 'application/binary'});\n",
              "      const a = document.createElement('a');\n",
              "      a.href = window.URL.createObjectURL(blob);\n",
              "      a.download = filename;\n",
              "      div.appendChild(a);\n",
              "      a.click();\n",
              "      div.remove();\n",
              "    }\n",
              "  "
            ]
          },
          "metadata": {}
        },
        {
          "output_type": "display_data",
          "data": {
            "text/plain": [
              "<IPython.core.display.Javascript object>"
            ],
            "application/javascript": [
              "download(\"download_73007255-187d-4ebf-b3ac-c4e72e3277ca\", \"\\uc77c\\ubc18\\uacfc\\uc790.zip\", 73182600)"
            ]
          },
          "metadata": {}
        }
      ]
    }
  ]
}