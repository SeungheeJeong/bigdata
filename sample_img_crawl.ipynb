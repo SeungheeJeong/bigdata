{
  "nbformat": 4,
  "nbformat_minor": 0,
  "metadata": {
    "colab": {
      "name": "Untitled1.ipynb",
      "provenance": [],
      "collapsed_sections": [],
      "mount_file_id": "1E0npqaj9Dedl8V4wXfA8w5wj-SoGj4kY",
      "authorship_tag": "ABX9TyP37cOpNOlR9hyrkW/jMp1f",
      "include_colab_link": true
    },
    "kernelspec": {
      "name": "python3",
      "display_name": "Python 3"
    },
    "language_info": {
      "name": "python"
    }
  },
  "cells": [
    {
      "cell_type": "markdown",
      "metadata": {
        "id": "view-in-github",
        "colab_type": "text"
      },
      "source": [
        "<a href=\"https://colab.research.google.com/github/jyakler/bigdata/blob/main/sample_img_crawl.ipynb\" target=\"_parent\"><img src=\"https://colab.research.google.com/assets/colab-badge.svg\" alt=\"Open In Colab\"/></a>"
      ]
    },
    {
      "cell_type": "code",
      "source": [
        "!pip install selenium"
      ],
      "metadata": {
        "colab": {
          "base_uri": "https://localhost:8080/"
        },
        "id": "NLKMelnDYqbK",
        "outputId": "87d59c72-351b-4334-a664-dc56ce2d4be3"
      },
      "execution_count": 2,
      "outputs": [
        {
          "output_type": "stream",
          "name": "stdout",
          "text": [
            "Installing collected packages: sniffio, outcome, h11, cryptography, async-generator, wsproto, urllib3, trio, pyOpenSSL, trio-websocket, selenium\n",
            "  Attempting uninstall: urllib3\n",
            "    Found existing installation: urllib3 1.24.3\n",
            "    Uninstalling urllib3-1.24.3:\n",
            "      Successfully uninstalled urllib3-1.24.3\n",
            "\u001b[31mERROR: pip's dependency resolver does not currently take into account all the packages that are installed. This behaviour is the source of the following dependency conflicts.\n",
            "requests 2.23.0 requires urllib3!=1.25.0,!=1.25.1,<1.26,>=1.21.1, but you have urllib3 1.26.9 which is incompatible.\n",
            "datascience 0.10.6 requires folium==0.2.1, but you have folium 0.8.3 which is incompatible.\u001b[0m\n",
            "Successfully installed async-generator-1.10 cryptography-37.0.2 h11-0.13.0 outcome-1.1.0 pyOpenSSL-22.0.0 selenium-4.2.0 sniffio-1.2.0 trio-0.20.0 trio-websocket-0.9.2 urllib3-1.26.9 wsproto-1.1.0\n"
          ]
        }
      ]
    },
    {
      "cell_type": "code",
      "execution_count": 3,
      "metadata": {
        "colab": {
          "base_uri": "https://localhost:8080/"
        },
        "id": "q1k_gPuA2n_i",
        "outputId": "4ee5a569-32ae-4ecc-a624-d372b9f70fba"
      },
      "outputs": [
        {
          "output_type": "stream",
          "name": "stderr",
          "text": [
            "/usr/local/lib/python3.7/dist-packages/requests/__init__.py:91: RequestsDependencyWarning: urllib3 (1.26.9) or chardet (3.0.4) doesn't match a supported version!\n",
            "  RequestsDependencyWarning)\n"
          ]
        }
      ],
      "source": [
        "from selenium import webdriver\n",
        "import re\n",
        "import numpy as np\n",
        "import pandas as pd\n",
        "import urllib.request\n",
        "from bs4 import BeautifulSoup as bs\n",
        "import time\n",
        "import math\n",
        "import requests\n",
        "import json"
      ]
    },
    {
      "cell_type": "code",
      "source": [
        "base_url=\"https://emart.ssg.com/category/list.ssg?dispCtgId=\"\n",
        "id=\"6000095935\"\n",
        "detail=\"&shpp=ssgem&sort=prcasc&page=\"\n",
        "page=2\n",
        "url=base_url+id+detail+str(page)\n",
        "hdr = {'User-Agent':'Mozilla/5.0 (Windows NT 10.0; Win64; x64) AppleWebKit/537.36 (KHTML, like Gecko) Chrome/102.0.5005.63 Safari/537.36'}\n",
        "req=requests.get(url=url,headers=hdr)\n",
        "req.encoding=\"utf-8\"\n",
        "r=req.text\n",
        "b=bs(r,\"html.parser\")"
      ],
      "metadata": {
        "id": "NIgNqPjyYg_e"
      },
      "execution_count": 128,
      "outputs": []
    },
    {
      "cell_type": "code",
      "source": [
        "product=b.select(\"#ty_thmb_view > ul > li\")\n",
        "\n",
        "t=[]\n",
        "c=[]\n",
        "p=[]\n",
        "if len(product)==0:\n",
        "  print(\"no left\")\n",
        "for product in product:\n",
        "  title= product.select(\"div.cunit_info > div.cunit_md.notranslate > div > a > em.tx_ko\")[0]\n",
        "  cost=product.select(\"div.cunit_info > div.cunit_price.notranslate > div.opt_price > em\")[0]\n",
        "  try:\n",
        "    pop=(product.select(\"div.cunit_info > div.cunit_app > div > span > em\")[0].text)\n",
        "  except:\n",
        "    pop=0\n",
        "  pop=re.sub()\n",
        "  t.append(title.text)\n",
        "  c.append(cost.text)\n",
        "  p.append(pop)\n",
        "\n",
        "\n",
        "df=pd.DataFrame({'name':t,'price':c,'popularity':p})"
      ],
      "metadata": {
        "id": "4du0T7szY1E-"
      },
      "execution_count": 69,
      "outputs": []
    },
    {
      "cell_type": "code",
      "source": [
        "display(df)"
      ],
      "metadata": {
        "id": "SxXJQtBkxRXm"
      },
      "execution_count": null,
      "outputs": []
    },
    {
      "cell_type": "code",
      "source": [
        "count=0\n",
        "page=1\n",
        "hdr = {'User-Agent':'Mozilla/5.0 (Windows NT 10.0; Win64; x64) AppleWebKit/537.36 (KHTML, like Gecko) Chrome/102.0.5005.63 Safari/537.36'}\n",
        "url_base=\"https://emart.ssg.com/disp/category.ssg?dispCtgId=6000095934&shpp=ssgem&sort=prcasc&page=\"\n",
        "while(1):\n",
        "  url=url_base+str(page)\n",
        "  req=requests.get(url=url,headers=hdr)\n",
        "  req.encoding=\"utf-8\"\n",
        "  r=req.text\n",
        "  b=bs(r,\"html.parser\")\n",
        "  #상품 이름, id가져오기\n",
        "  title=b.select(\"#ty_thmb_view > ul > li > div.cunit_info > div.cunit_md.notranslate > div > a > em.tx_ko\")\n",
        "  id=b.select(\"#ty_thmb_view > ul > li > div.cunit_prod > div.thmb > a['href']\")\n",
        "  img=b.select(\"#ty_thmb_view > ul > li > div.cunit_prod > div.thmb > a > img.i1\")\n",
        "  if(len(title)==0):\n",
        "    print(page,count,\"error\")\n",
        "    break\n",
        "  for i in range(len(id)):\n",
        "    name=title[i].text\n",
        "    name=name.replace('/','_')\n",
        "    img_url=\"https:\"+img[i]['src']\n",
        "    img_url=img_url.replace('290.jpg','1200.jpg')\n",
        "    fileurl='일반과자/'+name+\".jpg\"\n",
        "    urllib.request.urlretrieve(img_url,fileurl)\n",
        "    # print(img_url)\n",
        "    count+=1\n",
        "  page+=1"
      ],
      "metadata": {
        "colab": {
          "base_uri": "https://localhost:8080/"
        },
        "id": "FOC-PjbKt78l",
        "outputId": "31dd574a-1bb9-45c5-fc0d-62a54d69e4a7"
      },
      "execution_count": 132,
      "outputs": [
        {
          "output_type": "stream",
          "name": "stdout",
          "text": [
            "5 317 error\n"
          ]
        }
      ]
    },
    {
      "cell_type": "code",
      "source": [
        "!zip -r /content/일반과자.zip /content/일반과자"
      ],
      "metadata": {
        "id": "qZrHc8Os7wqH"
      },
      "execution_count": null,
      "outputs": []
    },
    {
      "cell_type": "code",
      "source": [
        "from google.colab import files\n",
        "files.download('/content/일반과자.zip')"
      ],
      "metadata": {
        "colab": {
          "base_uri": "https://localhost:8080/",
          "height": 16
        },
        "id": "Qpa-pTDRG7d2",
        "outputId": "80dcce6f-1f26-4cbc-9e8e-3f0aadf2f71e"
      },
      "execution_count": 136,
      "outputs": [
        {
          "output_type": "display_data",
          "data": {
            "text/plain": [
              "<IPython.core.display.Javascript object>"
            ],
            "application/javascript": [
              "\n",
              "    async function download(id, filename, size) {\n",
              "      if (!google.colab.kernel.accessAllowed) {\n",
              "        return;\n",
              "      }\n",
              "      const div = document.createElement('div');\n",
              "      const label = document.createElement('label');\n",
              "      label.textContent = `Downloading \"${filename}\": `;\n",
              "      div.appendChild(label);\n",
              "      const progress = document.createElement('progress');\n",
              "      progress.max = size;\n",
              "      div.appendChild(progress);\n",
              "      document.body.appendChild(div);\n",
              "\n",
              "      const buffers = [];\n",
              "      let downloaded = 0;\n",
              "\n",
              "      const channel = await google.colab.kernel.comms.open(id);\n",
              "      // Send a message to notify the kernel that we're ready.\n",
              "      channel.send({})\n",
              "\n",
              "      for await (const message of channel.messages) {\n",
              "        // Send a message to notify the kernel that we're ready.\n",
              "        channel.send({})\n",
              "        if (message.buffers) {\n",
              "          for (const buffer of message.buffers) {\n",
              "            buffers.push(buffer);\n",
              "            downloaded += buffer.byteLength;\n",
              "            progress.value = downloaded;\n",
              "          }\n",
              "        }\n",
              "      }\n",
              "      const blob = new Blob(buffers, {type: 'application/binary'});\n",
              "      const a = document.createElement('a');\n",
              "      a.href = window.URL.createObjectURL(blob);\n",
              "      a.download = filename;\n",
              "      div.appendChild(a);\n",
              "      a.click();\n",
              "      div.remove();\n",
              "    }\n",
              "  "
            ]
          },
          "metadata": {}
        },
        {
          "output_type": "display_data",
          "data": {
            "text/plain": [
              "<IPython.core.display.Javascript object>"
            ],
            "application/javascript": [
              "download(\"download_73007255-187d-4ebf-b3ac-c4e72e3277ca\", \"\\uc77c\\ubc18\\uacfc\\uc790.zip\", 73182600)"
            ]
          },
          "metadata": {}
        }
      ]
    }
  ]
}