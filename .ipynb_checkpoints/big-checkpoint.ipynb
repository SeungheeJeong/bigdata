{
 "cells": [
  {
   "cell_type": "code",
   "execution_count": 6,
   "id": "54f82537-de59-477e-a437-99492b1ddc6f",
   "metadata": {
    "tags": []
   },
   "outputs": [],
   "source": [
    "from selenium import webdriver\n",
    "import re\n",
    "import numpy as np\n",
    "import pandas as pd\n",
    "import urllib.request\n",
    "from bs4 import BeautifulSoup as bs\n",
    "import time\n",
    "import math\n",
    "import requests\n",
    "import json"
   ]
  },
  {
   "cell_type": "code",
   "execution_count": 2,
   "id": "9f7b90f4-37f4-4097-823b-6967643ee301",
   "metadata": {},
   "outputs": [
    {
     "name": "stderr",
     "output_type": "stream",
     "text": [
      "C:\\Users\\JY_Kim\\AppData\\Local\\Temp\\ipykernel_16744\\3659768691.py:1: DeprecationWarning: executable_path has been deprecated, please pass in a Service object\n",
      "  driver = webdriver.Chrome('C:/Temp/chromedriver')\n"
     ]
    }
   ],
   "source": [
    "driver = webdriver.Chrome('C:/Temp/chromedriver')\n",
    "url=\"https://emart.ssg.com/\"\n",
    "driver.implicitly_wait(3) \n",
    "driver.get(url)\n",
    "time.sleep(2)"
   ]
  },
  {
   "cell_type": "code",
   "execution_count": 9,
   "id": "e51b92f6-427d-4304-b3ba-a1271dfd8233",
   "metadata": {},
   "outputs": [],
   "source": [
    "url=\"https://emart.ssg.com/category/list.ssg?dispCtgId=6000095935&shpp=ssgem&sort=prcasc\"\n",
    "hdr = {'User-Agent':'Mozilla/5.0 (Windows NT 10.0; Win64; x64) AppleWebKit/537.36 (KHTML, like Gecko) Chrome/102.0.5005.63 Safari/537.36'}\n",
    "req=requests.get(url=url,headers=hdr)\n",
    "req.encoding=\"utf-8\"\n",
    "r=req.text\n",
    "b=bs(r,\"html.parser\")"
   ]
  },
  {
   "cell_type": "code",
   "execution_count": 14,
   "id": "2329e854-3219-4761-950f-90c40af598f5",
   "metadata": {
    "collapsed": true,
    "jupyter": {
     "outputs_hidden": true
    },
    "tags": []
   },
   "outputs": [
    {
     "name": "stdout",
     "output_type": "stream",
     "text": [
      "노브랜드 초코피넛 크레페 90g\n",
      "노브랜드 초코바나나 크레페 90g\n",
      "오리온 하양송이 36G*2번들\n",
      "오리온 배배 80g\n",
      "오레오 레드벨벳 샌드위치 쿠키 94g\n",
      "[해태] 에이스 121g\n",
      "리츠 샌드위치 크래커 초코 77g\n",
      "리츠샌드위치크래커화이트77G\n",
      "발효 스틱 건빵\n",
      "노브랜드 더블샌드웨이퍼 피넛초코 119g\n",
      "노브랜드 더블샌드웨이퍼 딸기초코 119g\n",
      "노브랜드 부드러운 버터쿠키 330 g\n",
      "노브랜드 참깨크래커 216g\n",
      "오리온 고소미1979 160g\n",
      "노브랜드 오트 초코칩쿠키 208g\n",
      "노브랜드 오트크런치쿠키 125 g\n",
      "노브랜드딸기블랙커런트오트쿠키208g\n",
      "청우유자치즈케익95g\n",
      "노브랜드 카페비스킷 275g\n",
      "로투스 120g\n",
      "노브랜드 피넛크런치쿠키 175g\n",
      "달칩 서리태 55g\n",
      "오리온 닥터유 다이제씬 252g\n",
      "[오리온]초코칩쿠키 256G\n",
      "노브랜드 유기농 쌀과자 자색고구마 55g\n",
      "노브랜드 유기농 쌀과자 단호박 55g\n",
      "오리온 고소미 216g\n",
      "해태 얼초동물그리기52g\n",
      "Dunicec) 미니프레즐 솔트 250g\n",
      "꼬꼬마 계란과자 100g\n",
      "오레오 분쇄쿠키 250g\n",
      "(G)피코크 초코칩쿠키 클래식 150g\n",
      "노브랜드 초코콕 미니하트쿠키 252g\n",
      "노브랜드 벨지언버터와플 240g\n",
      "피코크 유기농 버터비스킷 150g\n",
      "피코크 유기농 크런치 뮤즐리 쿠키 175g\n",
      "피코크 유기농 초콜릿 오렌지 쿠키 175g\n",
      "유기농 단호박 쿠키 60g\n",
      "유기농 치즈쿠키 60g\n",
      "유기농 자색고구마 쿠키 60g\n",
      "유기농 초코쿠키 60g\n",
      "PK 폴트 초콜릿 & 헤이즐넛 타르트 150g\n",
      "오리온 예감 볶은양파 204g\n",
      "PK 폴트 살구타르트 150g\n",
      "오리온 예감 치즈그라탕 204g\n",
      "오리온 예감 오리지널 192g\n",
      "보르그레베 링비스킷 400g\n",
      "해태 사브레 252g\n",
      "노브랜드 초코베어 300g\n",
      "노브랜드 메이플쿠키 250g\n",
      "해태 버터링 238g\n",
      "상하농원 동물복지 유정란 계란과자 50g\n",
      "발로코)치암벨레쿠키350G\n",
      "(G)[피코크] 초콜릿 샌드위치 비스킷 135g\n",
      "[피코크] 초코밀크 타르트 비스킷225g\n",
      "해태 에이스 뉴욕치즈케이크맛 364g\n",
      "로투스샌드비스코프크림_150G\n",
      "로투스샌드바닐라_150G\n",
      "해태 에이스 364g\n",
      "로투스 250g\n",
      "바릴라 바이오치 200g\n",
      "릴레 레몬향쿠키 130g\n",
      "닥터유 다이제 351g\n",
      "노브랜드 에그크림쿠키300g\n",
      "릴레 초코맛쿠키 130g\n",
      "닥터유다이제초코6입312g\n",
      "오리온 와클 어니언바게트맛 228g\n",
      "해태 미니초코칩사브레180g\n",
      "발로코)기란돌레쿠키350G\n",
      "오리온 촉촉한초코칩 12P+4P 320G\n",
      "[롯데] 칙촉 180g\n",
      "(G)피코크 트리플초콜릿쿠키 150g\n",
      "롯데 빠다코코낫벌크300g\n",
      "(G)피코크 화이트초코 크랜베리쿠키 150g\n",
      "롯데 제크오리지널300g\n",
      "롯데 돼지바핑크X롯데샌드315g\n",
      "[해태] 구운감자슬림240g\n",
      "해태 버터링딥초코155g\n",
      "카오숑 믹스넛 아라레 120g\n",
      "PK 폴트 딸기타르트 150g\n"
     ]
    }
   ],
   "source": [
    "title= b.select(\"#ty_thmb_view > ul > li > div.cunit_info > div.cunit_md.notranslate > div > a > em.tx_ko\")\n",
    "for dom in title:\n",
    "    print(dom.text)"
   ]
  }
 ],
 "metadata": {
  "kernelspec": {
   "display_name": "pydatavenv",
   "language": "python",
   "name": "pydatavenv"
  },
  "language_info": {
   "codemirror_mode": {
    "name": "ipython",
    "version": 3
   },
   "file_extension": ".py",
   "mimetype": "text/x-python",
   "name": "python",
   "nbconvert_exporter": "python",
   "pygments_lexer": "ipython3",
   "version": "3.9.12"
  }
 },
 "nbformat": 4,
 "nbformat_minor": 5
}
