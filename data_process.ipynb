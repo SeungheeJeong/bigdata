{
 "cells": [
  {
   "cell_type": "code",
   "execution_count": 16,
   "metadata": {
    "id": "NLKMelnDYqbK"
   },
   "outputs": [
    {
     "name": "stdout",
     "output_type": "stream",
     "text": [
      "Collecting selenium\n",
      "  Downloading selenium-4.2.0-py3-none-any.whl (983 kB)\n",
      "Requirement already satisfied: urllib3[secure,socks]~=1.26 in d:\\anaconda\\lib\\site-packages (from selenium) (1.26.7)\n",
      "Collecting trio-websocket~=0.9\n",
      "  Using cached trio_websocket-0.9.2-py3-none-any.whl (16 kB)\n",
      "Collecting trio~=0.17\n",
      "  Downloading trio-0.21.0-py3-none-any.whl (358 kB)\n",
      "Requirement already satisfied: cffi>=1.14 in d:\\anaconda\\lib\\site-packages (from trio~=0.17->selenium) (1.14.6)\n",
      "Requirement already satisfied: async-generator>=1.9 in d:\\anaconda\\lib\\site-packages (from trio~=0.17->selenium) (1.10)\n",
      "Requirement already satisfied: idna in d:\\anaconda\\lib\\site-packages (from trio~=0.17->selenium) (3.2)\n",
      "Requirement already satisfied: sniffio in d:\\anaconda\\lib\\site-packages (from trio~=0.17->selenium) (1.2.0)\n",
      "Requirement already satisfied: attrs>=19.2.0 in d:\\anaconda\\lib\\site-packages (from trio~=0.17->selenium) (21.2.0)\n",
      "Requirement already satisfied: sortedcontainers in d:\\anaconda\\lib\\site-packages (from trio~=0.17->selenium) (2.4.0)\n",
      "Collecting outcome\n",
      "  Using cached outcome-1.1.0-py2.py3-none-any.whl (9.7 kB)\n",
      "Requirement already satisfied: pycparser in d:\\anaconda\\lib\\site-packages (from cffi>=1.14->trio~=0.17->selenium) (2.20)\n",
      "Collecting wsproto>=0.14\n",
      "  Using cached wsproto-1.1.0-py3-none-any.whl (24 kB)\n",
      "Requirement already satisfied: PySocks!=1.5.7,<2.0,>=1.5.6 in d:\\anaconda\\lib\\site-packages (from urllib3[secure,socks]~=1.26->selenium) (1.7.1)\n",
      "Requirement already satisfied: pyOpenSSL>=0.14 in d:\\anaconda\\lib\\site-packages (from urllib3[secure,socks]~=1.26->selenium) (21.0.0)\n",
      "Requirement already satisfied: cryptography>=1.3.4 in d:\\anaconda\\lib\\site-packages (from urllib3[secure,socks]~=1.26->selenium) (3.4.8)\n",
      "Requirement already satisfied: certifi in d:\\anaconda\\lib\\site-packages (from urllib3[secure,socks]~=1.26->selenium) (2021.10.8)\n",
      "Requirement already satisfied: six>=1.5.2 in d:\\anaconda\\lib\\site-packages (from pyOpenSSL>=0.14->urllib3[secure,socks]~=1.26->selenium) (1.16.0)\n",
      "Collecting h11<1,>=0.9.0\n",
      "  Using cached h11-0.13.0-py3-none-any.whl (58 kB)\n",
      "Installing collected packages: outcome, h11, wsproto, trio, trio-websocket, selenium\n",
      "Successfully installed h11-0.13.0 outcome-1.1.0 selenium-4.2.0 trio-0.21.0 trio-websocket-0.9.2 wsproto-1.1.0\n"
     ]
    }
   ],
   "source": [
    "!pip install selenium"
   ]
  },
  {
   "cell_type": "code",
   "execution_count": 17,
   "metadata": {
    "id": "q1k_gPuA2n_i"
   },
   "outputs": [],
   "source": [
    "from selenium import webdriver\n",
    "import re\n",
    "import numpy as np\n",
    "import pandas as pd\n",
    "import urllib.request\n",
    "from bs4 import BeautifulSoup as bs\n",
    "import time\n",
    "import math\n",
    "import requests\n",
    "import json"
   ]
  },
  {
   "cell_type": "code",
   "execution_count": 128,
   "metadata": {
    "id": "NIgNqPjyYg_e",
    "jupyter": {
     "source_hidden": true
    },
    "tags": []
   },
   "outputs": [],
   "source": [
    "base_url=\"https://emart.ssg.com/category/list.ssg?dispCtgId=\"\n",
    "id=\"6000095935\"\n",
    "detail=\"&shpp=ssgem&sort=prcasc&page=\"\n",
    "page=1\n",
    "\n",
    "url=base_url+id+detail+str(page)\n",
    "hdr = {'User-Agent':'Mozilla/5.0 (Windows NT 10.0; Win64; x64) AppleWebKit/537.36 (KHTML, like Gecko) Chrome/102.0.5005.63 Safari/537.36'}\n",
    "req=requests.get(url=url,headers=hdr)\n",
    "req.encoding=\"utf-8\"\n",
    "r=req.text\n",
    "b=bs(r,\"html.parser\")"
   ]
  },
  {
   "cell_type": "code",
   "execution_count": 145,
   "metadata": {
    "colab": {
     "base_uri": "https://localhost:8080/"
    },
    "id": "4du0T7szY1E-",
    "outputId": "908597c6-b0ef-43ca-b462-abafd19ae83c",
    "tags": []
   },
   "outputs": [
    {
     "name": "stdout",
     "output_type": "stream",
     "text": [
      "no left\n"
     ]
    }
   ],
   "source": [
    "base_url=\"https://emart.ssg.com/category/list.ssg?dispCtgId=\"\n",
    "id=\"6000095935\"\n",
    "detail=\"&shpp=ssgem&sort=prcasc&page=\"\n",
    "page=1\n",
    "t=[]\n",
    "c=[]\n",
    "p=[]\n",
    "im=[]\n",
    "hdr = {'User-Agent':'Mozilla/5.0 (Windows NT 10.0; Win64; x64) AppleWebKit/537.36 (KHTML, like Gecko) Chrome/102.0.5005.63 Safari/537.36'}\n",
    "while(1):\n",
    "  url=base_url+id+detail+str(page)\n",
    "  req=requests.get(url=url,headers=hdr)\n",
    "  req.encoding=\"utf-8\"\n",
    "  r=req.text\n",
    "  b=bs(r,\"html.parser\")\n",
    "  product=b.select(\"#ty_thmb_view > ul > li\")\n",
    "\n",
    "  if len(product)==0:\n",
    "    print(\"no left\")\n",
    "    break\n",
    "  for product in product:\n",
    "    title= product.select(\"div.cunit_info > div.cunit_md.notranslate > div > a > em.tx_ko\")[0]\n",
    "    cost=product.select(\"div.cunit_info > div.cunit_price.notranslate > div.opt_price > em\")[0]\n",
    "    img=product.select(\"div.cunit_prod > div.thmb > a > img.i1\")[0]\n",
    "    try:\n",
    "      pop=(product.select(\"div.cunit_info > div.cunit_app > div > span > em\")[0].text)\n",
    "    except:\n",
    "      pop=\"0\"\n",
    "    pop=int(pop.replace(\",\",\"\"))\n",
    "    img_url=\"https:\"+img['src']\n",
    "    img_url=img_url.replace('290.jpg','1200.jpg')\n",
    "    t.append(title.text)\n",
    "    c.append(cost.text)\n",
    "    p.append(pop)\n",
    "    im.append(img_url)\n",
    "  page+=1\n",
    "\n",
    "df=pd.DataFrame({'name':t,'price':c,'popularity':p,'img_url':im})"
   ]
  },
  {
   "cell_type": "code",
   "execution_count": null,
   "metadata": {},
   "outputs": [],
   "source": [
    "display(df)\n",
    "# print(df.loc[0,'img_url'])"
   ]
  },
  {
   "cell_type": "code",
   "execution_count": null,
   "metadata": {},
   "outputs": [],
   "source": [
    "display(df[df['name'].str.contains(\"[★/]\")])"
   ]
  },
  {
   "cell_type": "code",
   "execution_count": null,
   "metadata": {},
   "outputs": [],
   "source": [
    "display(df[df['name'].str.len()>=25])"
   ]
  },
  {
   "cell_type": "code",
   "execution_count": 132,
   "metadata": {
    "colab": {
     "base_uri": "https://localhost:8080/"
    },
    "id": "FOC-PjbKt78l",
    "outputId": "31dd574a-1bb9-45c5-fc0d-62a54d69e4a7"
   },
   "outputs": [
    {
     "name": "stdout",
     "output_type": "stream",
     "text": [
      "5 317 error\n"
     ]
    }
   ],
   "source": [
    "count=0\n",
    "page=1\n",
    "hdr = {'User-Agent':'Mozilla/5.0 (Windows NT 10.0; Win64; x64) AppleWebKit/537.36 (KHTML, like Gecko) Chrome/102.0.5005.63 Safari/537.36'}\n",
    "url_base=\"https://emart.ssg.com/disp/category.ssg?dispCtgId=6000095934&shpp=ssgem&sort=prcasc&page=\"\n",
    "while(1):\n",
    "  url=url_base+str(page)\n",
    "  req=requests.get(url=url,headers=hdr)\n",
    "  req.encoding=\"utf-8\"\n",
    "  r=req.text\n",
    "  b=bs(r,\"html.parser\")\n",
    "  #상품 이름, id가져오기\n",
    "  title=b.select(\"#ty_thmb_view > ul > li > div.cunit_info > div.cunit_md.notranslate > div > a > em.tx_ko\")\n",
    "  id=b.select(\"#ty_thmb_view > ul > li > div.cunit_prod > div.thmb > a['href']\")\n",
    "  img=b.select(\"#ty_thmb_view > ul > li > div.cunit_prod > div.thmb > a > img.i1\")\n",
    "  if(len(title)==0):\n",
    "    print(page,count,\"error\")\n",
    "    break\n",
    "  for i in range(len(id)):\n",
    "    name=title[i].text\n",
    "    name=name.replace('/','_')\n",
    "    img_url=\"https:\"+img[i]['src']\n",
    "    img_url=img_url.replace('290.jpg','1200.jpg')\n",
    "    fileurl='일반과자/'+name+\".jpg\"\n",
    "    # urllib.request.urlretrieve(img_url,fileurl)\n",
    "    # print(img_url)\n",
    "    count+=1\n",
    "  page+=1"
   ]
  },
  {
   "cell_type": "code",
   "execution_count": 52,
   "metadata": {
    "tags": []
   },
   "outputs": [
    {
     "name": "stdout",
     "output_type": "stream",
     "text": [
      "C:/BigData/last_project/last/bigdata/data\n",
      "C:/BigData/last_project/last/bigdata/data\n"
     ]
    }
   ],
   "source": [
    "p=r\"C:/BigData/last_project/last/bigdata/data\"\n",
    "print(p)\n",
    "os.listdir(p+'/'+a)\n",
    "print(p)"
   ]
  },
  {
   "cell_type": "code",
   "execution_count": 76,
   "metadata": {
    "tags": []
   },
   "outputs": [],
   "source": [
    "#aihub데이터에 어떠한 것들이 있는지 dataframe으로 제작 + 세부 정보들 추가\n",
    "import os\n",
    "ori_p=r\"C:\\BigData\\last_project\\last\\bigdata\\data\"\n",
    "p=r\"C:/BigData/last_project/last/bigdata/data\"\n",
    "fileex=r'_meta.xml'\n",
    "big_cate=os.listdir(p)\n",
    "\n",
    "\"\"\"\n",
    "id,대분류, 중분류, 소분류, 세부분류, 브랜드명, 제품명, 용량, 영양정보\n",
    "\n",
    "\"\"\"\n",
    "item=[]\n",
    "b_c=[]\n",
    "m_c=[]\n",
    "s_c=[]\n",
    "n_c=[]\n",
    "brand=[]\n",
    "title=[]\n",
    "volume=[]\n",
    "nut=[]\n",
    "count=0\n",
    "for a in big_cate:\n",
    "    name=os.listdir(p+'/'+a)\n",
    "    for b in name:\n",
    "        xlist=[file for file in os.listdir(p+'/'+a+'/'+b) if file.endswith(fileex)]\n",
    "        xml_file=xlist[0]\n",
    "        path=os.path.join(ori_p,a,b,xml_file)\n",
    "        fp=open(path,\"r\",encoding=\"utf-8\")\n",
    "        soup=bs(fp,'html.parser')\n",
    "        element=soup.find('div_cd')\n",
    "        item.append(element.item_no.text)\n",
    "        b_c.append(element.div_l.text)\n",
    "        m_c.append(element.div_m.text)\n",
    "        s_c.append(element.div_s.text)\n",
    "        n_c.append(element.div_n.text)\n",
    "        brand.append(element.comp_nm.text)\n",
    "        title.append(element.img_prod_nm.text)\n",
    "        volume.append(element.volume.text)\n",
    "        nut.append(element.nutrition_info.text)\n",
    "        count+=1\n",
    "    print(count)\n",
    "    \n",
    "\n",
    "df=pd.DataFrame({'id':item,'대분류':b_c,'중분류':m_c,'소분류':s_c,'세부분류':n_c,'제조사':brand,'이름':title,'용량':volume,'영양정보':nut})\n"
   ]
  },
  {
   "cell_type": "code",
   "execution_count": 91,
   "metadata": {},
   "outputs": [],
   "source": [
    "#중복 데이터 확인\n",
    "pd.options.display.max_rows = 30\n",
    "df2=df[df.duplicated(['이름'])]\n",
    "t=[]\n",
    "temp=pd.DataFrame({'id':t,'이름':t})\n",
    "for name in df2['이름']:\n",
    "    a=(df[df['이름']==name])\n",
    "    temp=pd.concat([temp,a],ignore_index=True)\n",
    "\n",
    "display(temp)\n",
    "temp.to_excel('C:\\BigData\\last_project\\dup.xlsx')"
   ]
  },
  {
   "cell_type": "code",
   "execution_count": null,
   "metadata": {
    "id": "qZrHc8Os7wqH"
   },
   "outputs": [],
   "source": [
    "!zip -r /content/일반과자.zip /content/일반과자"
   ]
  },
  {
   "cell_type": "code",
   "execution_count": 136,
   "metadata": {
    "colab": {
     "base_uri": "https://localhost:8080/",
     "height": 16
    },
    "id": "Qpa-pTDRG7d2",
    "outputId": "80dcce6f-1f26-4cbc-9e8e-3f0aadf2f71e"
   },
   "outputs": [
    {
     "data": {
      "application/javascript": [
       "\n",
       "    async function download(id, filename, size) {\n",
       "      if (!google.colab.kernel.accessAllowed) {\n",
       "        return;\n",
       "      }\n",
       "      const div = document.createElement('div');\n",
       "      const label = document.createElement('label');\n",
       "      label.textContent = `Downloading \"${filename}\": `;\n",
       "      div.appendChild(label);\n",
       "      const progress = document.createElement('progress');\n",
       "      progress.max = size;\n",
       "      div.appendChild(progress);\n",
       "      document.body.appendChild(div);\n",
       "\n",
       "      const buffers = [];\n",
       "      let downloaded = 0;\n",
       "\n",
       "      const channel = await google.colab.kernel.comms.open(id);\n",
       "      // Send a message to notify the kernel that we're ready.\n",
       "      channel.send({})\n",
       "\n",
       "      for await (const message of channel.messages) {\n",
       "        // Send a message to notify the kernel that we're ready.\n",
       "        channel.send({})\n",
       "        if (message.buffers) {\n",
       "          for (const buffer of message.buffers) {\n",
       "            buffers.push(buffer);\n",
       "            downloaded += buffer.byteLength;\n",
       "            progress.value = downloaded;\n",
       "          }\n",
       "        }\n",
       "      }\n",
       "      const blob = new Blob(buffers, {type: 'application/binary'});\n",
       "      const a = document.createElement('a');\n",
       "      a.href = window.URL.createObjectURL(blob);\n",
       "      a.download = filename;\n",
       "      div.appendChild(a);\n",
       "      a.click();\n",
       "      div.remove();\n",
       "    }\n",
       "  "
      ],
      "text/plain": [
       "<IPython.core.display.Javascript object>"
      ]
     },
     "metadata": {},
     "output_type": "display_data"
    },
    {
     "data": {
      "application/javascript": [
       "download(\"download_73007255-187d-4ebf-b3ac-c4e72e3277ca\", \"\\uc77c\\ubc18\\uacfc\\uc790.zip\", 73182600)"
      ],
      "text/plain": [
       "<IPython.core.display.Javascript object>"
      ]
     },
     "metadata": {},
     "output_type": "display_data"
    }
   ],
   "source": [
    "from google.colab import files\n",
    "files.download('/content/일반과자.zip')"
   ]
  }
 ],
 "metadata": {
  "colab": {
   "authorship_tag": "ABX9TyOIoifbgcKysVXixfzcdH2Q",
   "collapsed_sections": [],
   "include_colab_link": true,
   "mount_file_id": "1E0npqaj9Dedl8V4wXfA8w5wj-SoGj4kY",
   "name": "Untitled1.ipynb",
   "provenance": []
  },
  "kernelspec": {
   "display_name": "Python 3 (ipykernel)",
   "language": "python",
   "name": "python3"
  },
  "language_info": {
   "codemirror_mode": {
    "name": "ipython",
    "version": 3
   },
   "file_extension": ".py",
   "mimetype": "text/x-python",
   "name": "python",
   "nbconvert_exporter": "python",
   "pygments_lexer": "ipython3",
   "version": "3.9.7"
  }
 },
 "nbformat": 4,
 "nbformat_minor": 4
}
